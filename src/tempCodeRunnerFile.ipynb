    plt.scatter(x, y)
    plt.xlim(0, 15) # range of x line
    plt.ylim(-.1, 1.1) # range of y line
    x_range = (np.arange(0, 15, 0.1))
    plt.plot(np.arange(0, 15, 0.1), np.array([sigmoid(a * x + b) for x in x_range]))
    plt.show()